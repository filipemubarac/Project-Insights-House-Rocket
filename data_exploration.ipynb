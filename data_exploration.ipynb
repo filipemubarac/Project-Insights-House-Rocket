{
 "cells": [
  {
   "cell_type": "code",
   "execution_count": 4,
   "id": "46eb8b8b",
   "metadata": {
    "ExecuteTime": {
     "end_time": "2022-04-04T02:32:14.051976Z",
     "start_time": "2022-04-04T02:32:14.047990Z"
    }
   },
   "outputs": [],
   "source": [
    "import pandas as pd\n",
    "import numpy as np"
   ]
  }
 ],
 "metadata": {
  "hide_input": false,
  "kernelspec": {
   "display_name": "Python 3 (project-insights-house-rockets)",
   "language": "python",
   "name": "python3"
  },
  "language_info": {
   "codemirror_mode": {
    "name": "ipython",
    "version": 3
   },
   "file_extension": ".py",
   "mimetype": "text/x-python",
   "name": "python",
   "nbconvert_exporter": "python",
   "pygments_lexer": "ipython3",
   "version": "3.7.13"
  }
 },
 "nbformat": 4,
 "nbformat_minor": 5
}
